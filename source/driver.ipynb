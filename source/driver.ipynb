{
 "cells": [
  {
   "cell_type": "code",
   "execution_count": 134,
   "metadata": {},
   "outputs": [],
   "source": [
    "import pandas as pd \n",
    "import numpy as np \n",
    "from scipy.stats import gmean\n",
    "from followers import MVO\n",
    "import matplotlib.pyplot as plt"
   ]
  },
  {
   "cell_type": "code",
   "execution_count": 135,
   "metadata": {},
   "outputs": [],
   "source": [
    "prices = pd.read_csv(\"../data/asset_prices_train.csv\", index_col=0)\n",
    "prices.index = pd.to_datetime(prices.index)\n",
    "tickers = prices.columns\n",
    "n = len(tickers)\n",
    "\n",
    "returns_test = pd.read_csv(\"../data/asset_returns_test.csv\", index_col=0)\n",
    "returns_test.index = pd.to_datetime(returns_test.index)\n",
    "R = np.array(returns_test.loc[\"2015-02-28\"])"
   ]
  },
  {
   "cell_type": "code",
   "execution_count": 136,
   "metadata": {},
   "outputs": [],
   "source": [
    "sectors = pd.read_csv(\"../data/sectors.csv\", index_col=0)\n",
    "strategies = {}\n",
    "strategies[0] = list(sectors[\"sector\"].apply(lambda x: 1 if x.startswith(\"Consumer\") else 0))\n",
    "strategies[1] = list(sectors[\"sector\"].apply(lambda x: 1 if x == \"Finance\" or x == \"Technology\" else 0))\n",
    "strategies[2] = list(sectors[\"sector\"].apply(lambda x: 1 if x == \"Health Care\" or x == \"Energy\" else 0))"
   ]
  },
  {
   "cell_type": "code",
   "execution_count": 137,
   "metadata": {},
   "outputs": [
    {
     "name": "stdout",
     "output_type": "stream",
     "text": [
      "(12, 20)\n",
      "(20,)\n",
      "(20, 20)\n"
     ]
    }
   ],
   "source": [
    "hist_returns = prices.pct_change(1).iloc[1:, :]\n",
    "r = gmean(hist_returns + 1) -1\n",
    "Q = np.cov(hist_returns.T)\n",
    "\n",
    "print(hist_returns.shape)\n",
    "print(r.shape)\n",
    "print(Q.shape)"
   ]
  },
  {
   "cell_type": "code",
   "execution_count": 138,
   "metadata": {},
   "outputs": [
    {
     "name": "stdout",
     "output_type": "stream",
     "text": [
      "1005.9461154434161 7.223197628290247\n"
     ]
    },
    {
     "data": {
      "image/png": "[encoded data removed]",
      "text/plain": [
       "<Figure size 640x480 with 3 Axes>"
      ]
     },
     "metadata": {},
     "output_type": "display_data"
    }
   ],
   "source": [
    "B = [8000, 1000, 1000]\n",
    "V = [0.03, 0.05, 0.04]\n",
    "overall_holdings = np.zeros(n)\n",
    "total = 0\n",
    "\n",
    "fig, ax = plt.subplots(nrows=1, ncols=3)\n",
    "\n",
    "for i in range(3):\n",
    "    x = MVO(r, Q, V[i], strategies[i])\n",
    "\n",
    "    for j in range(len(x)):\n",
    "        if x[j] < 0.01:\n",
    "            x[j] = 0\n",
    "\n",
    "    new_x = []\n",
    "    new_tickers = []\n",
    "\n",
    "    for index, weight in enumerate(x):\n",
    "        if weight: \n",
    "            new_x.append(weight)\n",
    "            new_tickers.append(tickers[index])\n",
    "\n",
    "    plt.subplot(1, 3, i+1)\n",
    "    plt.pie(new_x, labels=new_tickers)\n",
    "\n",
    "    overall_holdings += (B[i]*x)\n",
    "\n",
    "total_gain = R.T @ overall_holdings\n",
    "c = (overall_holdings @ Q @ overall_holdings)/sum(B)\n",
    "\n",
    "print(total_gain, c)"
   ]
  },
  {
   "cell_type": "markdown",
   "metadata": {},
   "source": []
  }
 ],
 "metadata": {
  "kernelspec": {
   "display_name": "Python 3",
   "language": "python",
   "name": "python3"
  },
  "language_info": {
   "codemirror_mode": {
    "name": "ipython",
    "version": 3
   },
   "file_extension": ".py",
   "mimetype": "text/x-python",
   "name": "python",
   "nbconvert_exporter": "python",
   "pygments_lexer": "ipython3",
   "version": "3.9.6"
  }
 },
 "nbformat": 4,
 "nbformat_minor": 2
}
